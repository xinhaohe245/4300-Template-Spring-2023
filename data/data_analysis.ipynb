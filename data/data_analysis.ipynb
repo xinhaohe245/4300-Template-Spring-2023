{
 "cells": [
  {
   "cell_type": "code",
   "execution_count": 1,
   "metadata": {},
   "outputs": [],
   "source": [
    "import pandas as pd\n",
    "import numpy as np\n",
    "from scipy.sparse.linalg import svds\n",
    "from sklearn.feature_extraction.text import TfidfVectorizer\n",
    "from sklearn.preprocessing import normalize\n",
    "\n",
    "cols = set(np.arange(44))\n",
    "irrelevant = set([0, 1, 2, 7, 8, 9, 10, 17, 22, 23, 24, 25, 26, 27, 28, \n",
    "                  29, 30, 31, 32, 33, 35, 36, 37, 38, 39, 40, 41, 42, 43])\n",
    "useful_cols = list(cols.difference(irrelevant))\n",
    "df = pd.read_excel('menustat_2021_dataset.xlsx', usecols=useful_cols)"
   ]
  },
  {
   "cell_type": "code",
   "execution_count": 2,
   "metadata": {},
   "outputs": [],
   "source": [
    "df = df[~(df['limited_time_offer'] == 1)]\n",
    "df.drop('limited_time_offer', axis=1, inplace=True)"
   ]
  },
  {
   "cell_type": "code",
   "execution_count": 3,
   "metadata": {},
   "outputs": [],
   "source": [
    "def add_quote(string):\n",
    "    return '\"' + string.strip() + '\"'\n",
    "df = df[df['item_description'].str.lower().str.contains(\"topping|ingredient|available in|choice in|sides|condiments|sides|own\")==False]\n",
    "for text_field in ['food_category', 'restaurant', 'item_name', 'item_description']:\n",
    "    df[text_field] = df[text_field][~df[text_field].isna()].astype(str).map(add_quote)"
   ]
  },
  {
   "cell_type": "code",
   "execution_count": 4,
   "metadata": {},
   "outputs": [
    {
     "ename": "TypeError",
     "evalue": "to_json() got an unexpected keyword argument 'encoding'",
     "output_type": "error",
     "traceback": [
      "\u001b[0;31m---------------------------------------------------------------------------\u001b[0m",
      "\u001b[0;31mTypeError\u001b[0m                                 Traceback (most recent call last)",
      "\u001b[0;32m<ipython-input-4-1926791ffdfc>\u001b[0m in \u001b[0;36m<module>\u001b[0;34m\u001b[0m\n\u001b[0;32m----> 1\u001b[0;31m \u001b[0mdf\u001b[0m\u001b[0;34m.\u001b[0m\u001b[0mto_json\u001b[0m\u001b[0;34m(\u001b[0m\u001b[0;34m'fastfood.csv'\u001b[0m\u001b[0;34m,\u001b[0m \u001b[0mencoding\u001b[0m\u001b[0;34m=\u001b[0m\u001b[0;34m'utf-8'\u001b[0m\u001b[0;34m)\u001b[0m\u001b[0;34m\u001b[0m\u001b[0;34m\u001b[0m\u001b[0m\n\u001b[0m",
      "\u001b[0;31mTypeError\u001b[0m: to_json() got an unexpected keyword argument 'encoding'"
     ]
    }
   ],
   "source": [
    "df.to_json('fastfood.csv', encoding='utf-8') "
   ]
  },
  {
   "cell_type": "code",
   "execution_count": null,
   "metadata": {},
   "outputs": [],
   "source": []
  }
 ],
 "metadata": {
  "kernelspec": {
   "display_name": "Python 3",
   "language": "python",
   "name": "python3"
  },
  "language_info": {
   "codemirror_mode": {
    "name": "ipython",
    "version": 3
   },
   "file_extension": ".py",
   "mimetype": "text/x-python",
   "name": "python",
   "nbconvert_exporter": "python",
   "pygments_lexer": "ipython3",
   "version": "3.8.8"
  }
 },
 "nbformat": 4,
 "nbformat_minor": 2
}
