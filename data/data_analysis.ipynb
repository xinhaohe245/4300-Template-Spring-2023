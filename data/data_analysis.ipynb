{
 "cells": [
  {
   "cell_type": "code",
   "execution_count": 38,
   "metadata": {},
   "outputs": [],
   "source": [
    "import pandas as pd\n",
    "import numpy as np\n",
    "\n",
    "cols = set(np.arange(44))\n",
    "irrelevant = set([0, 1, 2, 7, 8, 9, 10, 17, 22, 23, 24, 25, 26, 27, 28, \n",
    "                  29, 30, 31, 32, 33, 35, 36, 37, 38, 39, 40, 41, 42, 43])\n",
    "useful_cols = list(cols.difference(irrelevant))\n",
    "df = pd.read_excel('menustat_2021_dataset.xlsx', usecols=useful_cols)\n",
    "reviews = pd.read_csv('reviews.csv')"
   ]
  },
  {
   "cell_type": "code",
   "execution_count": 39,
   "metadata": {},
   "outputs": [
    {
     "data": {
      "text/plain": [
       "food_category       14248\n",
       "restaurant          14248\n",
       "item_name           14248\n",
       "item_description    14248\n",
       "calories            13851\n",
       "total_fat           13831\n",
       "saturated_fat       13765\n",
       "trans_fat           13493\n",
       "cholesterol         13697\n",
       "sodium              13875\n",
       "carbohydrates       13829\n",
       "protein             13842\n",
       "sugar               13569\n",
       "dietary_fiber       13315\n",
       "dtype: int64"
      ]
     },
     "execution_count": 39,
     "metadata": {},
     "output_type": "execute_result"
    }
   ],
   "source": [
    "df = df[~(df['limited_time_offer'] == 1)]\n",
    "df.drop('limited_time_offer', axis=1, inplace=True)\n",
    "df = df[(df['food_category'] != 'Toppings & Ingredients') & (df['food_category'] != 'Beverages')]\n",
    "df = df[~(df['restaurant'] == 'Chick-Fil-A Lemonade, Medium')]\n",
    "df.count()"
   ]
  },
  {
   "cell_type": "code",
   "execution_count": null,
   "metadata": {
    "scrolled": false
   },
   "outputs": [],
   "source": [
    "import requests\n",
    "from bs4 import SoupStrainer, BeautifulSoup as bs\n",
    "from bs4 import SoupStrainer\n",
    "import re\n",
    "\n",
    "def get_restaurant_links(desc, loc=\"nyc\"):\n",
    "    strainer = SoupStrainer(\"a\", attrs={\"href\": True})\n",
    "    url = f'https://www.yelp.com/search?find_desc={desc}&find_loc={loc}&sortby=review_count'\n",
    "    page = requests.get(url)\n",
    "    soup = bs(page.content, \"html.parser\", parse_only=strainer)\n",
    "    links = [link.get('href') for link in soup]\n",
    "    url_desc = desc.lower().split(' ')[0].replace(\"'\", '')\n",
    "    regex = f'/biz/{url_desc}.*'\n",
    "    filtered = filter(lambda link : re.match(regex, link) and not \n",
    "    re.match(r'.*?hrid.*', link), links)\n",
    "    full_links = map(lambda link : f\"https://www.yelp.com{link}\", filtered)\n",
    "    return set(full_links)\n",
    "\n",
    "dtypes = np.dtype([(\"restaurant\", str), (\"rating\", int), (\"review\", str)])\n",
    "states = ['new york', 'california', 'georgia', 'texas', 'minnesota', 'missouri']\n",
    "reviews = pd.DataFrame(np.empty(0, dtype=dtypes))\n",
    "restaurants = df['restaurant'].unique()\n",
    "for restaurant in restaurants:\n",
    "    review_count = 0\n",
    "    for state in states:\n",
    "        if review_count > 30:\n",
    "            break\n",
    "        for url in get_restaurant_links(restaurant, state):\n",
    "            strainer = SoupStrainer(\"ul\")\n",
    "            soup = bs(requests.get(url).content, \"html.parser\", parse_only=strainer)\n",
    "            for div in soup.find_all('div'):\n",
    "                rating = div.find('div', attrs = {'role': 'img', 'aria-label': True})\n",
    "                para = div.find('p')\n",
    "                if para and rating and para.span:\n",
    "                    rating = rating['aria-label']\n",
    "                    rating = int(rating[:rating.find(' ')])\n",
    "                    reviews = reviews.append({\"restaurant\": restaurant, \"rating\": rating, \"review\": para.text}, ignore_index=True)\n",
    "                    review_count += 1\n",
    "reviews.count()"
   ]
  },
  {
   "cell_type": "code",
   "execution_count": 40,
   "metadata": {},
   "outputs": [
    {
     "data": {
      "text/plain": [
       "food_category       13514\n",
       "restaurant          13514\n",
       "item_name           13514\n",
       "item_description    13514\n",
       "calories            13117\n",
       "total_fat           13097\n",
       "saturated_fat       13031\n",
       "trans_fat           12769\n",
       "cholesterol         12969\n",
       "sodium              13141\n",
       "carbohydrates       13097\n",
       "protein             13111\n",
       "sugar               12848\n",
       "dietary_fiber       12621\n",
       "dtype: int64"
      ]
     },
     "execution_count": 40,
     "metadata": {},
     "output_type": "execute_result"
    }
   ],
   "source": [
    "def add_quote(string):\n",
    "    return '\"' + string.strip() + '\"'\n",
    "for text_field in ['food_category', 'restaurant', 'item_name', 'item_description']:\n",
    "    df[text_field] = df[text_field][~df[text_field].isna()].astype(str).map(add_quote)\n",
    "df = df[df['restaurant'].isin(reviews['restaurant'].unique())]\n",
    "df.count()"
   ]
  },
  {
   "cell_type": "code",
   "execution_count": 41,
   "metadata": {},
   "outputs": [],
   "source": [
    "reviews.to_csv(\"reviews.csv\", index=False, encoding='utf-8')\n",
    "df.to_csv('fastfood.csv', index=False, encoding='utf-8') "
   ]
  },
  {
   "cell_type": "code",
   "execution_count": null,
   "metadata": {},
   "outputs": [],
   "source": []
  }
 ],
 "metadata": {
  "kernelspec": {
   "display_name": "Python 3",
   "language": "python",
   "name": "python3"
  },
  "language_info": {
   "codemirror_mode": {
    "name": "ipython",
    "version": 3
   },
   "file_extension": ".py",
   "mimetype": "text/x-python",
   "name": "python",
   "nbconvert_exporter": "python",
   "pygments_lexer": "ipython3",
   "version": "3.8.8"
  }
 },
 "nbformat": 4,
 "nbformat_minor": 2
}
