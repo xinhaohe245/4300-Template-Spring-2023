{
 "cells": [
  {
   "cell_type": "code",
   "execution_count": 1,
   "metadata": {},
   "outputs": [],
   "source": [
    "import pandas as pd\n",
    "import numpy as np\n",
    "\n",
    "cols = set(np.arange(44))\n",
    "irrelevant = set([0, 1, 2, 7, 8, 9, 10, 17, 22, 23, 24, 25, 26, 27, 28, \n",
    "                  29, 30, 31, 32, 33, 35, 36, 37, 38, 39, 40, 41, 42, 43])\n",
    "useful_cols = list(cols.difference(irrelevant))\n",
    "df = pd.read_excel('menustat_2021_dataset.xlsx', usecols=useful_cols)"
   ]
  },
  {
   "cell_type": "code",
   "execution_count": 2,
   "metadata": {},
   "outputs": [],
   "source": [
    "df = df[~(df['limited_time_offer'] == 1)]\n",
    "df.drop('limited_time_offer', axis=1, inplace=True)\n",
    "df[~(df['restaurant'] == 'Chick-Fil-A Lemonade, Medium')]\n",
    "df = df[df['item_description'].str.lower().str.contains(\"toppings|topping|ingredient|available in|choice in|sides|condiments|sides|own\")==False]"
   ]
  },
  {
   "cell_type": "code",
   "execution_count": 12,
   "metadata": {
    "scrolled": false
   },
   "outputs": [
    {
     "data": {
      "text/plain": [
       "restaurant    6688\n",
       "rating        6688\n",
       "review        6688\n",
       "dtype: int64"
      ]
     },
     "execution_count": 12,
     "metadata": {},
     "output_type": "execute_result"
    }
   ],
   "source": [
    "import requests\n",
    "from bs4 import SoupStrainer, BeautifulSoup as bs\n",
    "from bs4 import SoupStrainer\n",
    "import re\n",
    "\n",
    "def get_restaurant_links(desc, loc=\"nyc\"):\n",
    "    strainer = SoupStrainer(\"a\", attrs={\"href\": True})\n",
    "    url = f'https://www.yelp.com/search?find_desc={desc}&find_loc={loc}&sortby=review_count'\n",
    "    page = requests.get(url)\n",
    "    soup = bs(page.content, \"html.parser\", parse_only=strainer)\n",
    "    links = [link.get('href') for link in soup]\n",
    "    url_desc = desc.lower().split(' ')[0].replace(\"'\", '')\n",
    "    regex = f'/biz/{url_desc}.*'\n",
    "    filtered = filter(lambda link : re.match(regex, link) and not \n",
    "    re.match(r'.*?hrid.*', link), links)\n",
    "    full_links = map(lambda link : f\"https://www.yelp.com{link}\", filtered)\n",
    "    return set(full_links)\n",
    "\n",
    "dtypes = np.dtype([(\"restaurant\", str), (\"rating\", int), (\"review\", str)])\n",
    "states = ['new york', 'california', 'georgia', 'texas', 'minnesota', 'missouri']\n",
    "reviews = pd.DataFrame(np.empty(0, dtype=dtypes))\n",
    "restaurants = df['restaurant'].unique()\n",
    "for restaurant in restaurants:\n",
    "    review_count = 0\n",
    "    for state in states:\n",
    "        if review_count > 30:\n",
    "            break\n",
    "        for url in get_restaurant_links(restaurant, state):\n",
    "            strainer = SoupStrainer(\"ul\")\n",
    "            soup = bs(requests.get(url).content, \"html.parser\", parse_only=strainer)\n",
    "            for div in soup.find_all('div'):\n",
    "                rating = div.find('div', attrs = {'role': 'img', 'aria-label': True})\n",
    "                para = div.find('p')\n",
    "                if para and rating and para.span:\n",
    "                    rating = rating['aria-label']\n",
    "                    rating = int(rating[:rating.find(' ')])\n",
    "                    reviews = reviews.append({\"restaurant\": restaurant, \"rating\": rating, \"review\": para.text}, ignore_index=True)\n",
    "                    review_count += 1\n",
    "reviews.count()"
   ]
  },
  {
   "cell_type": "code",
   "execution_count": 14,
   "metadata": {},
   "outputs": [],
   "source": [
    "def add_quote(string):\n",
    "    return '\"' + string.strip() + '\"'\n",
    "for text_field in ['food_category', 'restaurant', 'item_name', 'item_description']:\n",
    "    df[text_field] = df[text_field][~df[text_field].isna()].astype(str).map(add_quote)\n",
    "for text_field in ['restaurant', 'review']:\n",
    "    reviews[text_field] = reviews[text_field].map(add_quote)\n",
    "reviews.to_csv(\"reviews.csv\", index=False, encoding='utf-8')\n",
    "df.to_csv('fastfood.csv', index=False, encoding='utf-8') "
   ]
  },
  {
   "cell_type": "code",
   "execution_count": null,
   "metadata": {},
   "outputs": [],
   "source": []
  }
 ],
 "metadata": {
  "kernelspec": {
   "display_name": "Python 3",
   "language": "python",
   "name": "python3"
  },
  "language_info": {
   "codemirror_mode": {
    "name": "ipython",
    "version": 3
   },
   "file_extension": ".py",
   "mimetype": "text/x-python",
   "name": "python",
   "nbconvert_exporter": "python",
   "pygments_lexer": "ipython3",
   "version": "3.8.8"
  }
 },
 "nbformat": 4,
 "nbformat_minor": 2
}
